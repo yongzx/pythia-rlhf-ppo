{
 "cells": [
  {
   "cell_type": "code",
   "execution_count": 1,
   "id": "e6c605a9-a1a1-4ff2-ad38-c7419588b756",
   "metadata": {},
   "outputs": [],
   "source": [
    "from transformers import AutoModelForSequenceClassification"
   ]
  },
  {
   "cell_type": "code",
   "execution_count": 2,
   "id": "00e98d8c-76b9-4a0c-b21e-acf28d19b814",
   "metadata": {
    "scrolled": true
   },
   "outputs": [
    {
     "name": "stdout",
     "output_type": "stream",
     "text": [
      "[2023-08-08 19:27:44,753] [INFO] [real_accelerator.py:133:get_accelerator] Setting ds_accelerator to cuda (auto detect)\n"
     ]
    },
    {
     "data": {
      "application/vnd.jupyter.widget-view+json": {
       "model_id": "cd6d424117354b9b83b172d56888376c",
       "version_major": 2,
       "version_minor": 0
      },
      "text/plain": [
       "Loading checkpoint shards:   0%|          | 0/2 [00:00<?, ?it/s]"
      ]
     },
     "metadata": {},
     "output_type": "display_data"
    }
   ],
   "source": [
    "model = AutoModelForSequenceClassification.from_pretrained(\"checkpoints/reward_model/EleutherAI_pythia-6.9b_f271943e_Dahoas_full-hh-rlhf_1e-05/checkpoint_12000\")"
   ]
  },
  {
   "cell_type": "code",
   "execution_count": null,
   "id": "8a742094-5895-48ec-859b-b8858acd3059",
   "metadata": {},
   "outputs": [],
   "source": []
  },
  {
   "cell_type": "code",
   "execution_count": 3,
   "id": "c57320dd-e53f-466d-bb94-3f4c5832ce28",
   "metadata": {},
   "outputs": [
    {
     "data": {
      "application/vnd.jupyter.widget-view+json": {
       "model_id": "05221831296d4d7e9074786bd45c77c1",
       "version_major": 2,
       "version_minor": 0
      },
      "text/plain": [
       "pytorch_model-00002-of-00003.bin:   0%|          | 0.00/9.93G [00:00<?, ?B/s]"
      ]
     },
     "metadata": {},
     "output_type": "display_data"
    },
    {
     "data": {
      "application/vnd.jupyter.widget-view+json": {
       "model_id": "e4a9f6c0c77f45e594de10e381b46fdc",
       "version_major": 2,
       "version_minor": 0
      },
      "text/plain": [
       "Upload 3 LFS files:   0%|          | 0/3 [00:00<?, ?it/s]"
      ]
     },
     "metadata": {},
     "output_type": "display_data"
    },
    {
     "data": {
      "application/vnd.jupyter.widget-view+json": {
       "model_id": "dc229dec49cb473d89cc2f758d1792eb",
       "version_major": 2,
       "version_minor": 0
      },
      "text/plain": [
       "pytorch_model-00001-of-00003.bin:   0%|          | 0.00/9.95G [00:00<?, ?B/s]"
      ]
     },
     "metadata": {},
     "output_type": "display_data"
    },
    {
     "data": {
      "application/vnd.jupyter.widget-view+json": {
       "model_id": "55f5b57ed954450992d2c6b2d6ef2171",
       "version_major": 2,
       "version_minor": 0
      },
      "text/plain": [
       "pytorch_model-00003-of-00003.bin:   0%|          | 0.00/6.71G [00:00<?, ?B/s]"
      ]
     },
     "metadata": {},
     "output_type": "display_data"
    },
    {
     "data": {
      "text/plain": [
       "CommitInfo(commit_url='https://huggingface.co/usvsnsp/pythia-6.9b-rm-full-hh-rlhf/commit/ffd12f2721841db7d64faa96eea6169d2ab71d14', commit_message='Upload GPTNeoXForSequenceClassification', commit_description='', oid='ffd12f2721841db7d64faa96eea6169d2ab71d14', pr_url=None, pr_revision=None, pr_num=None)"
      ]
     },
     "execution_count": 3,
     "metadata": {},
     "output_type": "execute_result"
    }
   ],
   "source": [
    "model.push_to_hub(\"usvsnsp/pythia-6.9b-rm-full-hh-rlhf\")"
   ]
  },
  {
   "cell_type": "code",
   "execution_count": 4,
   "id": "4daf717d-a6c4-4a57-976a-82296084f50e",
   "metadata": {},
   "outputs": [],
   "source": [
    "from transformers import AutoTokenizer"
   ]
  },
  {
   "cell_type": "code",
   "execution_count": 5,
   "id": "7d9c9a21-a67c-464c-b1b6-7df2cdc4c033",
   "metadata": {
    "scrolled": true
   },
   "outputs": [],
   "source": [
    "tokenizer = AutoTokenizer.from_pretrained(\"EleutherAI/pythia-70m\")"
   ]
  },
  {
   "cell_type": "code",
   "execution_count": 6,
   "id": "d414b8ef-618c-4dab-b1fe-643960bcaf31",
   "metadata": {},
   "outputs": [
    {
     "data": {
      "text/plain": [
       "CommitInfo(commit_url='https://huggingface.co/usvsnsp/pythia-6.9b-rm-full-hh-rlhf/commit/a0af0724763539a91a0ca3485f7e591bfa6f5a63', commit_message='Upload tokenizer', commit_description='', oid='a0af0724763539a91a0ca3485f7e591bfa6f5a63', pr_url=None, pr_revision=None, pr_num=None)"
      ]
     },
     "execution_count": 6,
     "metadata": {},
     "output_type": "execute_result"
    }
   ],
   "source": [
    "tokenizer.push_to_hub(\"usvsnsp/pythia-6.9b-rm-full-hh-rlhf\")"
   ]
  },
  {
   "cell_type": "code",
   "execution_count": 12,
   "id": "a8a572f1-8ce9-47b5-a9c1-1bca5bb2c7d2",
   "metadata": {},
   "outputs": [],
   "source": [
    "import torch"
   ]
  },
  {
   "cell_type": "code",
   "execution_count": 13,
   "id": "0f53b727-237e-471e-9841-dc5a5a65656f",
   "metadata": {},
   "outputs": [],
   "source": [
    "data = torch.load(\"checkpoints/ppo_hh/pythia-6.9b/checkpoint_6000/pytorch_model.bin\")"
   ]
  },
  {
   "cell_type": "code",
   "execution_count": 14,
   "id": "fad6df8a-796e-406f-8235-c21e240775df",
   "metadata": {},
   "outputs": [
    {
     "data": {
      "text/plain": [
       "odict_keys(['base_model.gpt_neox.layers.0.input_layernorm.weight', 'base_model.gpt_neox.layers.0.input_layernorm.bias', 'base_model.gpt_neox.layers.0.post_attention_layernorm.weight', 'base_model.gpt_neox.layers.0.post_attention_layernorm.bias', 'base_model.gpt_neox.layers.0.attention.query_key_value.weight', 'base_model.gpt_neox.layers.0.attention.query_key_value.bias', 'base_model.gpt_neox.layers.0.attention.dense.weight', 'base_model.gpt_neox.layers.0.attention.dense.bias', 'base_model.gpt_neox.layers.0.mlp.dense_h_to_4h.weight', 'base_model.gpt_neox.layers.0.mlp.dense_h_to_4h.bias', 'base_model.gpt_neox.layers.0.mlp.dense_4h_to_h.weight', 'base_model.gpt_neox.layers.0.mlp.dense_4h_to_h.bias', 'base_model.gpt_neox.layers.1.input_layernorm.weight', 'base_model.gpt_neox.layers.1.input_layernorm.bias', 'base_model.gpt_neox.layers.1.post_attention_layernorm.weight', 'base_model.gpt_neox.layers.1.post_attention_layernorm.bias', 'base_model.gpt_neox.layers.1.attention.query_key_value.weight', 'base_model.gpt_neox.layers.1.attention.query_key_value.bias', 'base_model.gpt_neox.layers.1.attention.dense.weight', 'base_model.gpt_neox.layers.1.attention.dense.bias', 'base_model.gpt_neox.layers.1.mlp.dense_h_to_4h.weight', 'base_model.gpt_neox.layers.1.mlp.dense_h_to_4h.bias', 'base_model.gpt_neox.layers.1.mlp.dense_4h_to_h.weight', 'base_model.gpt_neox.layers.1.mlp.dense_4h_to_h.bias', 'base_model.gpt_neox.layers.2.input_layernorm.weight', 'base_model.gpt_neox.layers.2.input_layernorm.bias', 'base_model.gpt_neox.layers.2.post_attention_layernorm.weight', 'base_model.gpt_neox.layers.2.post_attention_layernorm.bias', 'base_model.gpt_neox.layers.2.attention.query_key_value.weight', 'base_model.gpt_neox.layers.2.attention.query_key_value.bias', 'base_model.gpt_neox.layers.2.attention.dense.weight', 'base_model.gpt_neox.layers.2.attention.dense.bias', 'base_model.gpt_neox.layers.2.mlp.dense_h_to_4h.weight', 'base_model.gpt_neox.layers.2.mlp.dense_h_to_4h.bias', 'base_model.gpt_neox.layers.2.mlp.dense_4h_to_h.weight', 'base_model.gpt_neox.layers.2.mlp.dense_4h_to_h.bias', 'base_model.gpt_neox.layers.3.input_layernorm.weight', 'base_model.gpt_neox.layers.3.input_layernorm.bias', 'base_model.gpt_neox.layers.3.post_attention_layernorm.weight', 'base_model.gpt_neox.layers.3.post_attention_layernorm.bias', 'base_model.gpt_neox.layers.3.attention.query_key_value.weight', 'base_model.gpt_neox.layers.3.attention.query_key_value.bias', 'base_model.gpt_neox.layers.3.attention.dense.weight', 'base_model.gpt_neox.layers.3.attention.dense.bias', 'base_model.gpt_neox.layers.3.mlp.dense_h_to_4h.weight', 'base_model.gpt_neox.layers.3.mlp.dense_h_to_4h.bias', 'base_model.gpt_neox.layers.3.mlp.dense_4h_to_h.weight', 'base_model.gpt_neox.layers.3.mlp.dense_4h_to_h.bias', 'base_model.gpt_neox.layers.4.input_layernorm.weight', 'base_model.gpt_neox.layers.4.input_layernorm.bias', 'base_model.gpt_neox.layers.4.post_attention_layernorm.weight', 'base_model.gpt_neox.layers.4.post_attention_layernorm.bias', 'base_model.gpt_neox.layers.4.attention.query_key_value.weight', 'base_model.gpt_neox.layers.4.attention.query_key_value.bias', 'base_model.gpt_neox.layers.4.attention.dense.weight', 'base_model.gpt_neox.layers.4.attention.dense.bias', 'base_model.gpt_neox.layers.4.mlp.dense_h_to_4h.weight', 'base_model.gpt_neox.layers.4.mlp.dense_h_to_4h.bias', 'base_model.gpt_neox.layers.4.mlp.dense_4h_to_h.weight', 'base_model.gpt_neox.layers.4.mlp.dense_4h_to_h.bias', 'base_model.gpt_neox.layers.5.input_layernorm.weight', 'base_model.gpt_neox.layers.5.input_layernorm.bias', 'base_model.gpt_neox.layers.5.post_attention_layernorm.weight', 'base_model.gpt_neox.layers.5.post_attention_layernorm.bias', 'base_model.gpt_neox.layers.5.attention.query_key_value.weight', 'base_model.gpt_neox.layers.5.attention.query_key_value.bias', 'base_model.gpt_neox.layers.5.attention.dense.weight', 'base_model.gpt_neox.layers.5.attention.dense.bias', 'base_model.gpt_neox.layers.5.mlp.dense_h_to_4h.weight', 'base_model.gpt_neox.layers.5.mlp.dense_h_to_4h.bias', 'base_model.gpt_neox.layers.5.mlp.dense_4h_to_h.weight', 'base_model.gpt_neox.layers.5.mlp.dense_4h_to_h.bias', 'base_model.gpt_neox.layers.6.input_layernorm.weight', 'base_model.gpt_neox.layers.6.input_layernorm.bias', 'base_model.gpt_neox.layers.6.post_attention_layernorm.weight', 'base_model.gpt_neox.layers.6.post_attention_layernorm.bias', 'base_model.gpt_neox.layers.6.attention.query_key_value.weight', 'base_model.gpt_neox.layers.6.attention.query_key_value.bias', 'base_model.gpt_neox.layers.6.attention.dense.weight', 'base_model.gpt_neox.layers.6.attention.dense.bias', 'base_model.gpt_neox.layers.6.mlp.dense_h_to_4h.weight', 'base_model.gpt_neox.layers.6.mlp.dense_h_to_4h.bias', 'base_model.gpt_neox.layers.6.mlp.dense_4h_to_h.weight', 'base_model.gpt_neox.layers.6.mlp.dense_4h_to_h.bias', 'base_model.gpt_neox.layers.7.input_layernorm.weight', 'base_model.gpt_neox.layers.7.input_layernorm.bias', 'base_model.gpt_neox.layers.7.post_attention_layernorm.weight', 'base_model.gpt_neox.layers.7.post_attention_layernorm.bias', 'base_model.gpt_neox.layers.7.attention.query_key_value.weight', 'base_model.gpt_neox.layers.7.attention.query_key_value.bias', 'base_model.gpt_neox.layers.7.attention.dense.weight', 'base_model.gpt_neox.layers.7.attention.dense.bias', 'base_model.gpt_neox.layers.7.mlp.dense_h_to_4h.weight', 'base_model.gpt_neox.layers.7.mlp.dense_h_to_4h.bias', 'base_model.gpt_neox.layers.7.mlp.dense_4h_to_h.weight', 'base_model.gpt_neox.layers.7.mlp.dense_4h_to_h.bias', 'base_model.gpt_neox.layers.8.input_layernorm.weight', 'base_model.gpt_neox.layers.8.input_layernorm.bias', 'base_model.gpt_neox.layers.8.post_attention_layernorm.weight', 'base_model.gpt_neox.layers.8.post_attention_layernorm.bias', 'base_model.gpt_neox.layers.8.attention.query_key_value.weight', 'base_model.gpt_neox.layers.8.attention.query_key_value.bias', 'base_model.gpt_neox.layers.8.attention.dense.weight', 'base_model.gpt_neox.layers.8.attention.dense.bias', 'base_model.gpt_neox.layers.8.mlp.dense_h_to_4h.weight', 'base_model.gpt_neox.layers.8.mlp.dense_h_to_4h.bias', 'base_model.gpt_neox.layers.8.mlp.dense_4h_to_h.weight', 'base_model.gpt_neox.layers.8.mlp.dense_4h_to_h.bias', 'base_model.gpt_neox.layers.9.input_layernorm.weight', 'base_model.gpt_neox.layers.9.input_layernorm.bias', 'base_model.gpt_neox.layers.9.post_attention_layernorm.weight', 'base_model.gpt_neox.layers.9.post_attention_layernorm.bias', 'base_model.gpt_neox.layers.9.attention.query_key_value.weight', 'base_model.gpt_neox.layers.9.attention.query_key_value.bias', 'base_model.gpt_neox.layers.9.attention.dense.weight', 'base_model.gpt_neox.layers.9.attention.dense.bias', 'base_model.gpt_neox.layers.9.mlp.dense_h_to_4h.weight', 'base_model.gpt_neox.layers.9.mlp.dense_h_to_4h.bias', 'base_model.gpt_neox.layers.9.mlp.dense_4h_to_h.weight', 'base_model.gpt_neox.layers.9.mlp.dense_4h_to_h.bias', 'base_model.gpt_neox.layers.10.input_layernorm.weight', 'base_model.gpt_neox.layers.10.input_layernorm.bias', 'base_model.gpt_neox.layers.10.post_attention_layernorm.weight', 'base_model.gpt_neox.layers.10.post_attention_layernorm.bias', 'base_model.gpt_neox.layers.10.attention.query_key_value.weight', 'base_model.gpt_neox.layers.10.attention.query_key_value.bias', 'base_model.gpt_neox.layers.10.attention.dense.weight', 'base_model.gpt_neox.layers.10.attention.dense.bias', 'base_model.gpt_neox.layers.10.mlp.dense_h_to_4h.weight', 'base_model.gpt_neox.layers.10.mlp.dense_h_to_4h.bias', 'base_model.gpt_neox.layers.10.mlp.dense_4h_to_h.weight', 'base_model.gpt_neox.layers.10.mlp.dense_4h_to_h.bias', 'base_model.gpt_neox.layers.11.input_layernorm.weight', 'base_model.gpt_neox.layers.11.input_layernorm.bias', 'base_model.gpt_neox.layers.11.post_attention_layernorm.weight', 'base_model.gpt_neox.layers.11.post_attention_layernorm.bias', 'base_model.gpt_neox.layers.11.attention.query_key_value.weight', 'base_model.gpt_neox.layers.11.attention.query_key_value.bias', 'base_model.gpt_neox.layers.11.attention.dense.weight', 'base_model.gpt_neox.layers.11.attention.dense.bias', 'base_model.gpt_neox.layers.11.mlp.dense_h_to_4h.weight', 'base_model.gpt_neox.layers.11.mlp.dense_h_to_4h.bias', 'base_model.gpt_neox.layers.11.mlp.dense_4h_to_h.weight', 'base_model.gpt_neox.layers.11.mlp.dense_4h_to_h.bias', 'base_model.gpt_neox.layers.12.input_layernorm.weight', 'base_model.gpt_neox.layers.12.input_layernorm.bias', 'base_model.gpt_neox.layers.12.post_attention_layernorm.weight', 'base_model.gpt_neox.layers.12.post_attention_layernorm.bias', 'base_model.gpt_neox.layers.12.attention.query_key_value.weight', 'base_model.gpt_neox.layers.12.attention.query_key_value.bias', 'base_model.gpt_neox.layers.12.attention.dense.weight', 'base_model.gpt_neox.layers.12.attention.dense.bias', 'base_model.gpt_neox.layers.12.mlp.dense_h_to_4h.weight', 'base_model.gpt_neox.layers.12.mlp.dense_h_to_4h.bias', 'base_model.gpt_neox.layers.12.mlp.dense_4h_to_h.weight', 'base_model.gpt_neox.layers.12.mlp.dense_4h_to_h.bias', 'base_model.gpt_neox.layers.13.input_layernorm.weight', 'base_model.gpt_neox.layers.13.input_layernorm.bias', 'base_model.gpt_neox.layers.13.post_attention_layernorm.weight', 'base_model.gpt_neox.layers.13.post_attention_layernorm.bias', 'base_model.gpt_neox.layers.13.attention.query_key_value.weight', 'base_model.gpt_neox.layers.13.attention.query_key_value.bias', 'base_model.gpt_neox.layers.13.attention.dense.weight', 'base_model.gpt_neox.layers.13.attention.dense.bias', 'base_model.gpt_neox.layers.13.mlp.dense_h_to_4h.weight', 'base_model.gpt_neox.layers.13.mlp.dense_h_to_4h.bias', 'base_model.gpt_neox.layers.13.mlp.dense_4h_to_h.weight', 'base_model.gpt_neox.layers.13.mlp.dense_4h_to_h.bias', 'base_model.gpt_neox.layers.14.input_layernorm.weight', 'base_model.gpt_neox.layers.14.input_layernorm.bias', 'base_model.gpt_neox.layers.14.post_attention_layernorm.weight', 'base_model.gpt_neox.layers.14.post_attention_layernorm.bias', 'base_model.gpt_neox.layers.14.attention.query_key_value.weight', 'base_model.gpt_neox.layers.14.attention.query_key_value.bias', 'base_model.gpt_neox.layers.14.attention.dense.weight', 'base_model.gpt_neox.layers.14.attention.dense.bias', 'base_model.gpt_neox.layers.14.mlp.dense_h_to_4h.weight', 'base_model.gpt_neox.layers.14.mlp.dense_h_to_4h.bias', 'base_model.gpt_neox.layers.14.mlp.dense_4h_to_h.weight', 'base_model.gpt_neox.layers.14.mlp.dense_4h_to_h.bias', 'base_model.gpt_neox.layers.15.input_layernorm.weight', 'base_model.gpt_neox.layers.15.input_layernorm.bias', 'base_model.gpt_neox.layers.15.post_attention_layernorm.weight', 'base_model.gpt_neox.layers.15.post_attention_layernorm.bias', 'base_model.gpt_neox.layers.15.attention.query_key_value.weight', 'base_model.gpt_neox.layers.15.attention.query_key_value.bias', 'base_model.gpt_neox.layers.15.attention.dense.weight', 'base_model.gpt_neox.layers.15.attention.dense.bias', 'base_model.gpt_neox.layers.15.mlp.dense_h_to_4h.weight', 'base_model.gpt_neox.layers.15.mlp.dense_h_to_4h.bias', 'base_model.gpt_neox.layers.15.mlp.dense_4h_to_h.weight', 'base_model.gpt_neox.layers.15.mlp.dense_4h_to_h.bias', 'frozen_head.decoder_blocks.0.input_layernorm.weight', 'frozen_head.decoder_blocks.0.input_layernorm.bias', 'frozen_head.decoder_blocks.0.post_attention_layernorm.weight', 'frozen_head.decoder_blocks.0.post_attention_layernorm.bias', 'frozen_head.decoder_blocks.0.attention.query_key_value.weight', 'frozen_head.decoder_blocks.0.attention.query_key_value.bias', 'frozen_head.decoder_blocks.0.attention.dense.weight', 'frozen_head.decoder_blocks.0.attention.dense.bias', 'frozen_head.decoder_blocks.0.mlp.dense_h_to_4h.weight', 'frozen_head.decoder_blocks.0.mlp.dense_h_to_4h.bias', 'frozen_head.decoder_blocks.0.mlp.dense_4h_to_h.weight', 'frozen_head.decoder_blocks.0.mlp.dense_4h_to_h.bias', 'frozen_head.decoder_blocks.1.input_layernorm.weight', 'frozen_head.decoder_blocks.1.input_layernorm.bias', 'frozen_head.decoder_blocks.1.post_attention_layernorm.weight', 'frozen_head.decoder_blocks.1.post_attention_layernorm.bias', 'frozen_head.decoder_blocks.1.attention.query_key_value.weight', 'frozen_head.decoder_blocks.1.attention.query_key_value.bias', 'frozen_head.decoder_blocks.1.attention.dense.weight', 'frozen_head.decoder_blocks.1.attention.dense.bias', 'frozen_head.decoder_blocks.1.mlp.dense_h_to_4h.weight', 'frozen_head.decoder_blocks.1.mlp.dense_h_to_4h.bias', 'frozen_head.decoder_blocks.1.mlp.dense_4h_to_h.weight', 'frozen_head.decoder_blocks.1.mlp.dense_4h_to_h.bias', 'frozen_head.decoder_blocks.2.input_layernorm.weight', 'frozen_head.decoder_blocks.2.input_layernorm.bias', 'frozen_head.decoder_blocks.2.post_attention_layernorm.weight', 'frozen_head.decoder_blocks.2.post_attention_layernorm.bias', 'frozen_head.decoder_blocks.2.attention.query_key_value.weight', 'frozen_head.decoder_blocks.2.attention.query_key_value.bias', 'frozen_head.decoder_blocks.2.attention.dense.weight', 'frozen_head.decoder_blocks.2.attention.dense.bias', 'frozen_head.decoder_blocks.2.mlp.dense_h_to_4h.weight', 'frozen_head.decoder_blocks.2.mlp.dense_h_to_4h.bias', 'frozen_head.decoder_blocks.2.mlp.dense_4h_to_h.weight', 'frozen_head.decoder_blocks.2.mlp.dense_4h_to_h.bias', 'frozen_head.decoder_blocks.3.input_layernorm.weight', 'frozen_head.decoder_blocks.3.input_layernorm.bias', 'frozen_head.decoder_blocks.3.post_attention_layernorm.weight', 'frozen_head.decoder_blocks.3.post_attention_layernorm.bias', 'frozen_head.decoder_blocks.3.attention.query_key_value.weight', 'frozen_head.decoder_blocks.3.attention.query_key_value.bias', 'frozen_head.decoder_blocks.3.attention.dense.weight', 'frozen_head.decoder_blocks.3.attention.dense.bias', 'frozen_head.decoder_blocks.3.mlp.dense_h_to_4h.weight', 'frozen_head.decoder_blocks.3.mlp.dense_h_to_4h.bias', 'frozen_head.decoder_blocks.3.mlp.dense_4h_to_h.weight', 'frozen_head.decoder_blocks.3.mlp.dense_4h_to_h.bias', 'frozen_head.decoder_blocks.4.input_layernorm.weight', 'frozen_head.decoder_blocks.4.input_layernorm.bias', 'frozen_head.decoder_blocks.4.post_attention_layernorm.weight', 'frozen_head.decoder_blocks.4.post_attention_layernorm.bias', 'frozen_head.decoder_blocks.4.attention.query_key_value.weight', 'frozen_head.decoder_blocks.4.attention.query_key_value.bias', 'frozen_head.decoder_blocks.4.attention.dense.weight', 'frozen_head.decoder_blocks.4.attention.dense.bias', 'frozen_head.decoder_blocks.4.mlp.dense_h_to_4h.weight', 'frozen_head.decoder_blocks.4.mlp.dense_h_to_4h.bias', 'frozen_head.decoder_blocks.4.mlp.dense_4h_to_h.weight', 'frozen_head.decoder_blocks.4.mlp.dense_4h_to_h.bias', 'frozen_head.decoder_blocks.5.input_layernorm.weight', 'frozen_head.decoder_blocks.5.input_layernorm.bias', 'frozen_head.decoder_blocks.5.post_attention_layernorm.weight', 'frozen_head.decoder_blocks.5.post_attention_layernorm.bias', 'frozen_head.decoder_blocks.5.attention.query_key_value.weight', 'frozen_head.decoder_blocks.5.attention.query_key_value.bias', 'frozen_head.decoder_blocks.5.attention.dense.weight', 'frozen_head.decoder_blocks.5.attention.dense.bias', 'frozen_head.decoder_blocks.5.mlp.dense_h_to_4h.weight', 'frozen_head.decoder_blocks.5.mlp.dense_h_to_4h.bias', 'frozen_head.decoder_blocks.5.mlp.dense_4h_to_h.weight', 'frozen_head.decoder_blocks.5.mlp.dense_4h_to_h.bias', 'frozen_head.decoder_blocks.6.input_layernorm.weight', 'frozen_head.decoder_blocks.6.input_layernorm.bias', 'frozen_head.decoder_blocks.6.post_attention_layernorm.weight', 'frozen_head.decoder_blocks.6.post_attention_layernorm.bias', 'frozen_head.decoder_blocks.6.attention.query_key_value.weight', 'frozen_head.decoder_blocks.6.attention.query_key_value.bias', 'frozen_head.decoder_blocks.6.attention.dense.weight', 'frozen_head.decoder_blocks.6.attention.dense.bias', 'frozen_head.decoder_blocks.6.mlp.dense_h_to_4h.weight', 'frozen_head.decoder_blocks.6.mlp.dense_h_to_4h.bias', 'frozen_head.decoder_blocks.6.mlp.dense_4h_to_h.weight', 'frozen_head.decoder_blocks.6.mlp.dense_4h_to_h.bias', 'frozen_head.decoder_blocks.7.input_layernorm.weight', 'frozen_head.decoder_blocks.7.input_layernorm.bias', 'frozen_head.decoder_blocks.7.post_attention_layernorm.weight', 'frozen_head.decoder_blocks.7.post_attention_layernorm.bias', 'frozen_head.decoder_blocks.7.attention.query_key_value.weight', 'frozen_head.decoder_blocks.7.attention.query_key_value.bias', 'frozen_head.decoder_blocks.7.attention.dense.weight', 'frozen_head.decoder_blocks.7.attention.dense.bias', 'frozen_head.decoder_blocks.7.mlp.dense_h_to_4h.weight', 'frozen_head.decoder_blocks.7.mlp.dense_h_to_4h.bias', 'frozen_head.decoder_blocks.7.mlp.dense_4h_to_h.weight', 'frozen_head.decoder_blocks.7.mlp.dense_4h_to_h.bias', 'frozen_head.decoder_blocks.8.input_layernorm.weight', 'frozen_head.decoder_blocks.8.input_layernorm.bias', 'frozen_head.decoder_blocks.8.post_attention_layernorm.weight', 'frozen_head.decoder_blocks.8.post_attention_layernorm.bias', 'frozen_head.decoder_blocks.8.attention.query_key_value.weight', 'frozen_head.decoder_blocks.8.attention.query_key_value.bias', 'frozen_head.decoder_blocks.8.attention.dense.weight', 'frozen_head.decoder_blocks.8.attention.dense.bias', 'frozen_head.decoder_blocks.8.mlp.dense_h_to_4h.weight', 'frozen_head.decoder_blocks.8.mlp.dense_h_to_4h.bias', 'frozen_head.decoder_blocks.8.mlp.dense_4h_to_h.weight', 'frozen_head.decoder_blocks.8.mlp.dense_4h_to_h.bias', 'frozen_head.decoder_blocks.9.input_layernorm.weight', 'frozen_head.decoder_blocks.9.input_layernorm.bias', 'frozen_head.decoder_blocks.9.post_attention_layernorm.weight', 'frozen_head.decoder_blocks.9.post_attention_layernorm.bias', 'frozen_head.decoder_blocks.9.attention.query_key_value.weight', 'frozen_head.decoder_blocks.9.attention.query_key_value.bias', 'frozen_head.decoder_blocks.9.attention.dense.weight', 'frozen_head.decoder_blocks.9.attention.dense.bias', 'frozen_head.decoder_blocks.9.mlp.dense_h_to_4h.weight', 'frozen_head.decoder_blocks.9.mlp.dense_h_to_4h.bias', 'frozen_head.decoder_blocks.9.mlp.dense_4h_to_h.weight', 'frozen_head.decoder_blocks.9.mlp.dense_4h_to_h.bias', 'frozen_head.decoder_blocks.10.input_layernorm.weight', 'frozen_head.decoder_blocks.10.input_layernorm.bias', 'frozen_head.decoder_blocks.10.post_attention_layernorm.weight', 'frozen_head.decoder_blocks.10.post_attention_layernorm.bias', 'frozen_head.decoder_blocks.10.attention.query_key_value.weight', 'frozen_head.decoder_blocks.10.attention.query_key_value.bias', 'frozen_head.decoder_blocks.10.attention.dense.weight', 'frozen_head.decoder_blocks.10.attention.dense.bias', 'frozen_head.decoder_blocks.10.mlp.dense_h_to_4h.weight', 'frozen_head.decoder_blocks.10.mlp.dense_h_to_4h.bias', 'frozen_head.decoder_blocks.10.mlp.dense_4h_to_h.weight', 'frozen_head.decoder_blocks.10.mlp.dense_4h_to_h.bias', 'frozen_head.decoder_blocks.11.input_layernorm.weight', 'frozen_head.decoder_blocks.11.input_layernorm.bias', 'frozen_head.decoder_blocks.11.post_attention_layernorm.weight', 'frozen_head.decoder_blocks.11.post_attention_layernorm.bias', 'frozen_head.decoder_blocks.11.attention.query_key_value.weight', 'frozen_head.decoder_blocks.11.attention.query_key_value.bias', 'frozen_head.decoder_blocks.11.attention.dense.weight', 'frozen_head.decoder_blocks.11.attention.dense.bias', 'frozen_head.decoder_blocks.11.mlp.dense_h_to_4h.weight', 'frozen_head.decoder_blocks.11.mlp.dense_h_to_4h.bias', 'frozen_head.decoder_blocks.11.mlp.dense_4h_to_h.weight', 'frozen_head.decoder_blocks.11.mlp.dense_4h_to_h.bias', 'frozen_head.decoder_blocks.12.input_layernorm.weight', 'frozen_head.decoder_blocks.12.input_layernorm.bias', 'frozen_head.decoder_blocks.12.post_attention_layernorm.weight', 'frozen_head.decoder_blocks.12.post_attention_layernorm.bias', 'frozen_head.decoder_blocks.12.attention.query_key_value.weight', 'frozen_head.decoder_blocks.12.attention.query_key_value.bias', 'frozen_head.decoder_blocks.12.attention.dense.weight', 'frozen_head.decoder_blocks.12.attention.dense.bias', 'frozen_head.decoder_blocks.12.mlp.dense_h_to_4h.weight', 'frozen_head.decoder_blocks.12.mlp.dense_h_to_4h.bias', 'frozen_head.decoder_blocks.12.mlp.dense_4h_to_h.weight', 'frozen_head.decoder_blocks.12.mlp.dense_4h_to_h.bias', 'frozen_head.decoder_blocks.13.input_layernorm.weight', 'frozen_head.decoder_blocks.13.input_layernorm.bias', 'frozen_head.decoder_blocks.13.post_attention_layernorm.weight', 'frozen_head.decoder_blocks.13.post_attention_layernorm.bias', 'frozen_head.decoder_blocks.13.attention.query_key_value.weight', 'frozen_head.decoder_blocks.13.attention.query_key_value.bias', 'frozen_head.decoder_blocks.13.attention.dense.weight', 'frozen_head.decoder_blocks.13.attention.dense.bias', 'frozen_head.decoder_blocks.13.mlp.dense_h_to_4h.weight', 'frozen_head.decoder_blocks.13.mlp.dense_h_to_4h.bias', 'frozen_head.decoder_blocks.13.mlp.dense_4h_to_h.weight', 'frozen_head.decoder_blocks.13.mlp.dense_4h_to_h.bias', 'frozen_head.decoder_blocks.14.input_layernorm.weight', 'frozen_head.decoder_blocks.14.input_layernorm.bias', 'frozen_head.decoder_blocks.14.post_attention_layernorm.weight', 'frozen_head.decoder_blocks.14.post_attention_layernorm.bias', 'frozen_head.decoder_blocks.14.attention.query_key_value.weight', 'frozen_head.decoder_blocks.14.attention.query_key_value.bias', 'frozen_head.decoder_blocks.14.attention.dense.weight', 'frozen_head.decoder_blocks.14.attention.dense.bias', 'frozen_head.decoder_blocks.14.mlp.dense_h_to_4h.weight', 'frozen_head.decoder_blocks.14.mlp.dense_h_to_4h.bias', 'frozen_head.decoder_blocks.14.mlp.dense_4h_to_h.weight', 'frozen_head.decoder_blocks.14.mlp.dense_4h_to_h.bias', 'frozen_head.decoder_blocks.15.input_layernorm.weight', 'frozen_head.decoder_blocks.15.input_layernorm.bias', 'frozen_head.decoder_blocks.15.post_attention_layernorm.weight', 'frozen_head.decoder_blocks.15.post_attention_layernorm.bias', 'frozen_head.decoder_blocks.15.attention.query_key_value.weight', 'frozen_head.decoder_blocks.15.attention.query_key_value.bias', 'frozen_head.decoder_blocks.15.attention.dense.weight', 'frozen_head.decoder_blocks.15.attention.dense.bias', 'frozen_head.decoder_blocks.15.mlp.dense_h_to_4h.weight', 'frozen_head.decoder_blocks.15.mlp.dense_h_to_4h.bias', 'frozen_head.decoder_blocks.15.mlp.dense_4h_to_h.weight', 'frozen_head.decoder_blocks.15.mlp.dense_4h_to_h.bias', 'frozen_head.final_norm.weight', 'frozen_head.final_norm.bias', 'frozen_head.lm_head.weight', 'base_model.gpt_neox.embed_in.weight', 'base_model.gpt_neox.layers.16.input_layernorm.weight', 'base_model.gpt_neox.layers.16.input_layernorm.bias', 'base_model.gpt_neox.layers.16.post_attention_layernorm.weight', 'base_model.gpt_neox.layers.16.post_attention_layernorm.bias', 'base_model.gpt_neox.layers.16.attention.query_key_value.weight', 'base_model.gpt_neox.layers.16.attention.query_key_value.bias', 'base_model.gpt_neox.layers.16.attention.dense.weight', 'base_model.gpt_neox.layers.16.attention.dense.bias', 'base_model.gpt_neox.layers.16.mlp.dense_h_to_4h.weight', 'base_model.gpt_neox.layers.16.mlp.dense_h_to_4h.bias', 'base_model.gpt_neox.layers.16.mlp.dense_4h_to_h.weight', 'base_model.gpt_neox.layers.16.mlp.dense_4h_to_h.bias', 'base_model.gpt_neox.layers.17.input_layernorm.weight', 'base_model.gpt_neox.layers.17.input_layernorm.bias', 'base_model.gpt_neox.layers.17.post_attention_layernorm.weight', 'base_model.gpt_neox.layers.17.post_attention_layernorm.bias', 'base_model.gpt_neox.layers.17.attention.query_key_value.weight', 'base_model.gpt_neox.layers.17.attention.query_key_value.bias', 'base_model.gpt_neox.layers.17.attention.dense.weight', 'base_model.gpt_neox.layers.17.attention.dense.bias', 'base_model.gpt_neox.layers.17.mlp.dense_h_to_4h.weight', 'base_model.gpt_neox.layers.17.mlp.dense_h_to_4h.bias', 'base_model.gpt_neox.layers.17.mlp.dense_4h_to_h.weight', 'base_model.gpt_neox.layers.17.mlp.dense_4h_to_h.bias', 'base_model.gpt_neox.layers.18.input_layernorm.weight', 'base_model.gpt_neox.layers.18.input_layernorm.bias', 'base_model.gpt_neox.layers.18.post_attention_layernorm.weight', 'base_model.gpt_neox.layers.18.post_attention_layernorm.bias', 'base_model.gpt_neox.layers.18.attention.query_key_value.weight', 'base_model.gpt_neox.layers.18.attention.query_key_value.bias', 'base_model.gpt_neox.layers.18.attention.dense.weight', 'base_model.gpt_neox.layers.18.attention.dense.bias', 'base_model.gpt_neox.layers.18.mlp.dense_h_to_4h.weight', 'base_model.gpt_neox.layers.18.mlp.dense_h_to_4h.bias', 'base_model.gpt_neox.layers.18.mlp.dense_4h_to_h.weight', 'base_model.gpt_neox.layers.18.mlp.dense_4h_to_h.bias', 'base_model.gpt_neox.layers.19.input_layernorm.weight', 'base_model.gpt_neox.layers.19.input_layernorm.bias', 'base_model.gpt_neox.layers.19.post_attention_layernorm.weight', 'base_model.gpt_neox.layers.19.post_attention_layernorm.bias', 'base_model.gpt_neox.layers.19.attention.query_key_value.weight', 'base_model.gpt_neox.layers.19.attention.query_key_value.bias', 'base_model.gpt_neox.layers.19.attention.dense.weight', 'base_model.gpt_neox.layers.19.attention.dense.bias', 'base_model.gpt_neox.layers.19.mlp.dense_h_to_4h.weight', 'base_model.gpt_neox.layers.19.mlp.dense_h_to_4h.bias', 'base_model.gpt_neox.layers.19.mlp.dense_4h_to_h.weight', 'base_model.gpt_neox.layers.19.mlp.dense_4h_to_h.bias', 'base_model.gpt_neox.layers.20.input_layernorm.weight', 'base_model.gpt_neox.layers.20.input_layernorm.bias', 'base_model.gpt_neox.layers.20.post_attention_layernorm.weight', 'base_model.gpt_neox.layers.20.post_attention_layernorm.bias', 'base_model.gpt_neox.layers.20.attention.query_key_value.weight', 'base_model.gpt_neox.layers.20.attention.query_key_value.bias', 'base_model.gpt_neox.layers.20.attention.dense.weight', 'base_model.gpt_neox.layers.20.attention.dense.bias', 'base_model.gpt_neox.layers.20.mlp.dense_h_to_4h.weight', 'base_model.gpt_neox.layers.20.mlp.dense_h_to_4h.bias', 'base_model.gpt_neox.layers.20.mlp.dense_4h_to_h.weight', 'base_model.gpt_neox.layers.20.mlp.dense_4h_to_h.bias', 'base_model.gpt_neox.layers.21.input_layernorm.weight', 'base_model.gpt_neox.layers.21.input_layernorm.bias', 'base_model.gpt_neox.layers.21.post_attention_layernorm.weight', 'base_model.gpt_neox.layers.21.post_attention_layernorm.bias', 'base_model.gpt_neox.layers.21.attention.query_key_value.weight', 'base_model.gpt_neox.layers.21.attention.query_key_value.bias', 'base_model.gpt_neox.layers.21.attention.dense.weight', 'base_model.gpt_neox.layers.21.attention.dense.bias', 'base_model.gpt_neox.layers.21.mlp.dense_h_to_4h.weight', 'base_model.gpt_neox.layers.21.mlp.dense_h_to_4h.bias', 'base_model.gpt_neox.layers.21.mlp.dense_4h_to_h.weight', 'base_model.gpt_neox.layers.21.mlp.dense_4h_to_h.bias', 'base_model.gpt_neox.layers.22.input_layernorm.weight', 'base_model.gpt_neox.layers.22.input_layernorm.bias', 'base_model.gpt_neox.layers.22.post_attention_layernorm.weight', 'base_model.gpt_neox.layers.22.post_attention_layernorm.bias', 'base_model.gpt_neox.layers.22.attention.query_key_value.weight', 'base_model.gpt_neox.layers.22.attention.query_key_value.bias', 'base_model.gpt_neox.layers.22.attention.dense.weight', 'base_model.gpt_neox.layers.22.attention.dense.bias', 'base_model.gpt_neox.layers.22.mlp.dense_h_to_4h.weight', 'base_model.gpt_neox.layers.22.mlp.dense_h_to_4h.bias', 'base_model.gpt_neox.layers.22.mlp.dense_4h_to_h.weight', 'base_model.gpt_neox.layers.22.mlp.dense_4h_to_h.bias', 'base_model.gpt_neox.layers.23.input_layernorm.weight', 'base_model.gpt_neox.layers.23.input_layernorm.bias', 'base_model.gpt_neox.layers.23.post_attention_layernorm.weight', 'base_model.gpt_neox.layers.23.post_attention_layernorm.bias', 'base_model.gpt_neox.layers.23.attention.query_key_value.weight', 'base_model.gpt_neox.layers.23.attention.query_key_value.bias', 'base_model.gpt_neox.layers.23.attention.dense.weight', 'base_model.gpt_neox.layers.23.attention.dense.bias', 'base_model.gpt_neox.layers.23.mlp.dense_h_to_4h.weight', 'base_model.gpt_neox.layers.23.mlp.dense_h_to_4h.bias', 'base_model.gpt_neox.layers.23.mlp.dense_4h_to_h.weight', 'base_model.gpt_neox.layers.23.mlp.dense_4h_to_h.bias', 'base_model.gpt_neox.layers.24.input_layernorm.weight', 'base_model.gpt_neox.layers.24.input_layernorm.bias', 'base_model.gpt_neox.layers.24.post_attention_layernorm.weight', 'base_model.gpt_neox.layers.24.post_attention_layernorm.bias', 'base_model.gpt_neox.layers.24.attention.query_key_value.weight', 'base_model.gpt_neox.layers.24.attention.query_key_value.bias', 'base_model.gpt_neox.layers.24.attention.dense.weight', 'base_model.gpt_neox.layers.24.attention.dense.bias', 'base_model.gpt_neox.layers.24.mlp.dense_h_to_4h.weight', 'base_model.gpt_neox.layers.24.mlp.dense_h_to_4h.bias', 'base_model.gpt_neox.layers.24.mlp.dense_4h_to_h.weight', 'base_model.gpt_neox.layers.24.mlp.dense_4h_to_h.bias', 'base_model.gpt_neox.layers.25.input_layernorm.weight', 'base_model.gpt_neox.layers.25.input_layernorm.bias', 'base_model.gpt_neox.layers.25.post_attention_layernorm.weight', 'base_model.gpt_neox.layers.25.post_attention_layernorm.bias', 'base_model.gpt_neox.layers.25.attention.query_key_value.weight', 'base_model.gpt_neox.layers.25.attention.query_key_value.bias', 'base_model.gpt_neox.layers.25.attention.dense.weight', 'base_model.gpt_neox.layers.25.attention.dense.bias', 'base_model.gpt_neox.layers.25.mlp.dense_h_to_4h.weight', 'base_model.gpt_neox.layers.25.mlp.dense_h_to_4h.bias', 'base_model.gpt_neox.layers.25.mlp.dense_4h_to_h.weight', 'base_model.gpt_neox.layers.25.mlp.dense_4h_to_h.bias', 'base_model.gpt_neox.layers.26.input_layernorm.weight', 'base_model.gpt_neox.layers.26.input_layernorm.bias', 'base_model.gpt_neox.layers.26.post_attention_layernorm.weight', 'base_model.gpt_neox.layers.26.post_attention_layernorm.bias', 'base_model.gpt_neox.layers.26.attention.query_key_value.weight', 'base_model.gpt_neox.layers.26.attention.query_key_value.bias', 'base_model.gpt_neox.layers.26.attention.dense.weight', 'base_model.gpt_neox.layers.26.attention.dense.bias', 'base_model.gpt_neox.layers.26.mlp.dense_h_to_4h.weight', 'base_model.gpt_neox.layers.26.mlp.dense_h_to_4h.bias', 'base_model.gpt_neox.layers.26.mlp.dense_4h_to_h.weight', 'base_model.gpt_neox.layers.26.mlp.dense_4h_to_h.bias', 'base_model.gpt_neox.layers.27.input_layernorm.weight', 'base_model.gpt_neox.layers.27.input_layernorm.bias', 'base_model.gpt_neox.layers.27.post_attention_layernorm.weight', 'base_model.gpt_neox.layers.27.post_attention_layernorm.bias', 'base_model.gpt_neox.layers.27.attention.query_key_value.weight', 'base_model.gpt_neox.layers.27.attention.query_key_value.bias', 'base_model.gpt_neox.layers.27.attention.dense.weight', 'base_model.gpt_neox.layers.27.attention.dense.bias', 'base_model.gpt_neox.layers.27.mlp.dense_h_to_4h.weight', 'base_model.gpt_neox.layers.27.mlp.dense_h_to_4h.bias', 'base_model.gpt_neox.layers.27.mlp.dense_4h_to_h.weight', 'base_model.gpt_neox.layers.27.mlp.dense_4h_to_h.bias', 'base_model.gpt_neox.layers.28.input_layernorm.weight', 'base_model.gpt_neox.layers.28.input_layernorm.bias', 'base_model.gpt_neox.layers.28.post_attention_layernorm.weight', 'base_model.gpt_neox.layers.28.post_attention_layernorm.bias', 'base_model.gpt_neox.layers.28.attention.query_key_value.weight', 'base_model.gpt_neox.layers.28.attention.query_key_value.bias', 'base_model.gpt_neox.layers.28.attention.dense.weight', 'base_model.gpt_neox.layers.28.attention.dense.bias', 'base_model.gpt_neox.layers.28.mlp.dense_h_to_4h.weight', 'base_model.gpt_neox.layers.28.mlp.dense_h_to_4h.bias', 'base_model.gpt_neox.layers.28.mlp.dense_4h_to_h.weight', 'base_model.gpt_neox.layers.28.mlp.dense_4h_to_h.bias', 'base_model.gpt_neox.layers.29.input_layernorm.weight', 'base_model.gpt_neox.layers.29.input_layernorm.bias', 'base_model.gpt_neox.layers.29.post_attention_layernorm.weight', 'base_model.gpt_neox.layers.29.post_attention_layernorm.bias', 'base_model.gpt_neox.layers.29.attention.query_key_value.weight', 'base_model.gpt_neox.layers.29.attention.query_key_value.bias', 'base_model.gpt_neox.layers.29.attention.dense.weight', 'base_model.gpt_neox.layers.29.attention.dense.bias', 'base_model.gpt_neox.layers.29.mlp.dense_h_to_4h.weight', 'base_model.gpt_neox.layers.29.mlp.dense_h_to_4h.bias', 'base_model.gpt_neox.layers.29.mlp.dense_4h_to_h.weight', 'base_model.gpt_neox.layers.29.mlp.dense_4h_to_h.bias', 'base_model.gpt_neox.layers.30.input_layernorm.weight', 'base_model.gpt_neox.layers.30.input_layernorm.bias', 'base_model.gpt_neox.layers.30.post_attention_layernorm.weight', 'base_model.gpt_neox.layers.30.post_attention_layernorm.bias', 'base_model.gpt_neox.layers.30.attention.query_key_value.weight', 'base_model.gpt_neox.layers.30.attention.query_key_value.bias', 'base_model.gpt_neox.layers.30.attention.dense.weight', 'base_model.gpt_neox.layers.30.attention.dense.bias', 'base_model.gpt_neox.layers.30.mlp.dense_h_to_4h.weight', 'base_model.gpt_neox.layers.30.mlp.dense_h_to_4h.bias', 'base_model.gpt_neox.layers.30.mlp.dense_4h_to_h.weight', 'base_model.gpt_neox.layers.30.mlp.dense_4h_to_h.bias', 'base_model.gpt_neox.layers.31.input_layernorm.weight', 'base_model.gpt_neox.layers.31.input_layernorm.bias', 'base_model.gpt_neox.layers.31.post_attention_layernorm.weight', 'base_model.gpt_neox.layers.31.post_attention_layernorm.bias', 'base_model.gpt_neox.layers.31.attention.query_key_value.weight', 'base_model.gpt_neox.layers.31.attention.query_key_value.bias', 'base_model.gpt_neox.layers.31.attention.dense.weight', 'base_model.gpt_neox.layers.31.attention.dense.bias', 'base_model.gpt_neox.layers.31.mlp.dense_h_to_4h.weight', 'base_model.gpt_neox.layers.31.mlp.dense_h_to_4h.bias', 'base_model.gpt_neox.layers.31.mlp.dense_4h_to_h.weight', 'base_model.gpt_neox.layers.31.mlp.dense_4h_to_h.bias', 'base_model.gpt_neox.final_layer_norm.weight', 'base_model.gpt_neox.final_layer_norm.bias', 'base_model.embed_out.weight', 'v_head.0.weight', 'v_head.0.bias', 'v_head.2.weight', 'v_head.2.bias'])"
      ]
     },
     "execution_count": 14,
     "metadata": {},
     "output_type": "execute_result"
    }
   ],
   "source": [
    "data.keys()"
   ]
  },
  {
   "cell_type": "code",
   "execution_count": null,
   "id": "e369c4c2-0df7-4847-9a23-c75f750b69c1",
   "metadata": {},
   "outputs": [],
   "source": []
  }
 ],
 "metadata": {
  "kernelspec": {
   "display_name": "Python 3 (ipykernel)",
   "language": "python",
   "name": "python3"
  },
  "language_info": {
   "codemirror_mode": {
    "name": "ipython",
    "version": 3
   },
   "file_extension": ".py",
   "mimetype": "text/x-python",
   "name": "python",
   "nbconvert_exporter": "python",
   "pygments_lexer": "ipython3",
   "version": "3.9.5"
  }
 },
 "nbformat": 4,
 "nbformat_minor": 5
}
